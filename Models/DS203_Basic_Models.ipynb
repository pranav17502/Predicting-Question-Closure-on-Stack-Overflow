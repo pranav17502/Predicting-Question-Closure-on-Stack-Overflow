{
  "nbformat": 4,
  "nbformat_minor": 0,
  "metadata": {
    "colab": {
      "provenance": []
    },
    "kernelspec": {
      "name": "python3",
      "display_name": "Python 3"
    },
    "language_info": {
      "name": "python"
    }
  },
  "cells": [
    {
      "cell_type": "code",
      "execution_count": null,
      "metadata": {
        "id": "UIoYix29elOD"
      },
      "outputs": [],
      "source": [
        "import pandas as pd\n",
        "import numpy as np\n",
        "import seaborn as sns\n",
        "import matplotlib.pyplot as plt\n",
        "%matplotlib inline"
      ]
    },
    {
      "cell_type": "code",
      "source": [
        "from google.colab import drive\n",
        "drive.mount('/content/drive')"
      ],
      "metadata": {
        "colab": {
          "base_uri": "https://localhost:8080/"
        },
        "id": "fowYBu-HeuZM",
        "outputId": "6cf57ff5-0ad4-400c-bab2-b1b12e0907cf"
      },
      "execution_count": null,
      "outputs": [
        {
          "output_type": "stream",
          "name": "stdout",
          "text": [
            "Drive already mounted at /content/drive; to attempt to forcibly remount, call drive.mount(\"/content/drive\", force_remount=True).\n"
          ]
        }
      ]
    },
    {
      "cell_type": "code",
      "source": [
        "# Saeel's Link\n",
        "df = pd.read_csv(\"/content/drive/MyDrive/DS203/EDA.csv\")"
      ],
      "metadata": {
        "id": "zuxDQ_bxeucL"
      },
      "execution_count": null,
      "outputs": []
    },
    {
      "cell_type": "markdown",
      "source": [
        "Link to the dataset: https://drive.google.com/file/d/1L6yQXX1DntaIWhKMIviJnCoM2FIF8prM/view?usp=share_link"
      ],
      "metadata": {
        "id": "YsBe14ht0aGh"
      }
    },
    {
      "cell_type": "markdown",
      "source": [
        "If Colab is crashing, we can reduce the size of our dataset by the command below."
      ],
      "metadata": {
        "id": "31GoX5A2e8CC"
      }
    },
    {
      "cell_type": "code",
      "source": [
        "df.drop(df.tail(90000).index, inplace= True)"
      ],
      "metadata": {
        "id": "fuAirvEbeue5"
      },
      "execution_count": null,
      "outputs": []
    },
    {
      "cell_type": "markdown",
      "source": [
        "# **Splitting our Dataset**"
      ],
      "metadata": {
        "id": "W6X4E1Z2fI55"
      }
    },
    {
      "cell_type": "code",
      "source": [
        "x = df['Description']\n",
        "y = df['OpenStatus']"
      ],
      "metadata": {
        "id": "meoprvy5euhJ"
      },
      "execution_count": null,
      "outputs": []
    },
    {
      "cell_type": "code",
      "source": [
        "from sklearn.model_selection import train_test_split"
      ],
      "metadata": {
        "id": "AkGixGOUeujf"
      },
      "execution_count": null,
      "outputs": []
    },
    {
      "cell_type": "code",
      "source": [
        "x_train, x_test, y_train, y_test = train_test_split(x, y, test_size = 0.3, random_state = 42)"
      ],
      "metadata": {
        "id": "ADWAn-J8kkx8"
      },
      "execution_count": null,
      "outputs": []
    },
    {
      "cell_type": "code",
      "source": [
        "from sklearn.feature_extraction.text import TfidfVectorizer "
      ],
      "metadata": {
        "id": "OBCKy9yQkk1D"
      },
      "execution_count": null,
      "outputs": []
    },
    {
      "cell_type": "code",
      "source": [
        "vectorizer = TfidfVectorizer(max_features = 10000) \n",
        "x_train_arr = vectorizer.fit_transform(x_train).toarray()  \n",
        "x_test_arr = vectorizer.transform(x_test).toarray() "
      ],
      "metadata": {
        "id": "rGWQrlRFkk3i"
      },
      "execution_count": null,
      "outputs": []
    },
    {
      "cell_type": "markdown",
      "source": [
        "# **Model Building**"
      ],
      "metadata": {
        "id": "xp8SepMPl5yg"
      }
    },
    {
      "cell_type": "code",
      "source": [
        "from sklearn.metrics import accuracy_score\n",
        "from sklearn.metrics import confusion_matrix "
      ],
      "metadata": {
        "id": "kLoVEbYIl8B1"
      },
      "execution_count": null,
      "outputs": []
    },
    {
      "cell_type": "markdown",
      "source": [
        "# **Gaussian Naive Bayes Classifier**"
      ],
      "metadata": {
        "id": "4O-r5Qwkx7PE"
      }
    },
    {
      "cell_type": "code",
      "source": [
        "from sklearn.naive_bayes import GaussianNB"
      ],
      "metadata": {
        "id": "n6pBv77Ll8Mb"
      },
      "execution_count": null,
      "outputs": []
    },
    {
      "cell_type": "markdown",
      "source": [
        "Reference: https://scikit-learn.org/stable/modules/naive_bayes.html"
      ],
      "metadata": {
        "id": "zXWHFJ2AmC02"
      }
    },
    {
      "cell_type": "code",
      "source": [
        "gnb = GaussianNB()"
      ],
      "metadata": {
        "id": "6_H6fXuMl8J7"
      },
      "execution_count": null,
      "outputs": []
    },
    {
      "cell_type": "code",
      "source": [
        "gnb.fit(x_train_arr, y_train)"
      ],
      "metadata": {
        "colab": {
          "base_uri": "https://localhost:8080/"
        },
        "id": "zaZ_Hccll8HL",
        "outputId": "7d2a0a81-45cf-40aa-bb34-c7666dccbd5a"
      },
      "execution_count": null,
      "outputs": [
        {
          "output_type": "execute_result",
          "data": {
            "text/plain": [
              "GaussianNB()"
            ]
          },
          "metadata": {},
          "execution_count": 13
        }
      ]
    },
    {
      "cell_type": "code",
      "source": [
        "# y_predicted_train = gnb.predict(x_train_arr)\n",
        "y_predicted_test = gnb.predict(x_test_arr)"
      ],
      "metadata": {
        "id": "rIm1Engfl8Ev"
      },
      "execution_count": null,
      "outputs": []
    },
    {
      "cell_type": "code",
      "source": [
        "# print(\"Training Accuracy score:\",accuracy_score(y_train, y_predicted_train))\n",
        "print(\"Testing Accuracy score:\",accuracy_score(y_test, y_predicted_test))"
      ],
      "metadata": {
        "colab": {
          "base_uri": "https://localhost:8080/"
        },
        "id": "79F94l3ZmNgZ",
        "outputId": "17c6353d-39e9-4f7c-ef96-9791dfccfe09"
      },
      "execution_count": null,
      "outputs": [
        {
          "output_type": "stream",
          "name": "stdout",
          "text": [
            "Testing Accuracy score: 0.282654820315608\n"
          ]
        }
      ]
    },
    {
      "cell_type": "code",
      "source": [
        "print('Confusion matrix\\n', confusion_matrix(y_test, y_predicted_test))"
      ],
      "metadata": {
        "colab": {
          "base_uri": "https://localhost:8080/"
        },
        "id": "0n8YOuMwmNjo",
        "outputId": "4480641a-1cbb-4e5b-e64f-80907073bf30"
      },
      "execution_count": null,
      "outputs": [
        {
          "output_type": "stream",
          "name": "stdout",
          "text": [
            "Confusion matrix\n",
            " [[ 312 1644  541  298  513]\n",
            " [ 102 1209  213   92   66]\n",
            " [  91  895  713  115   95]\n",
            " [1110 2292 1125 1879 1099]\n",
            " [ 105  178   89  156  150]]\n"
          ]
        }
      ]
    },
    {
      "cell_type": "markdown",
      "source": [
        "# **Multinomial Naive Bayes Classifier**"
      ],
      "metadata": {
        "id": "QEQ3pETcmUhs"
      }
    },
    {
      "cell_type": "code",
      "source": [
        "from sklearn.naive_bayes import MultinomialNB"
      ],
      "metadata": {
        "id": "fM2iC5qdmNmL"
      },
      "execution_count": null,
      "outputs": []
    },
    {
      "cell_type": "markdown",
      "source": [
        "Reference: https://scikit-learn.org/stable/modules/naive_bayes.html"
      ],
      "metadata": {
        "id": "qdfURZwHnRV6"
      }
    },
    {
      "cell_type": "code",
      "source": [
        "mnb = MultinomialNB() "
      ],
      "metadata": {
        "id": "2ptbrRiwmNo4"
      },
      "execution_count": null,
      "outputs": []
    },
    {
      "cell_type": "code",
      "source": [
        "mnb.fit(x_train_arr, y_train)"
      ],
      "metadata": {
        "colab": {
          "base_uri": "https://localhost:8080/"
        },
        "id": "wIA-qYoxmNrr",
        "outputId": "b76e1fd7-6da6-46fd-b229-c7d39cdd28e0"
      },
      "execution_count": null,
      "outputs": [
        {
          "output_type": "execute_result",
          "data": {
            "text/plain": [
              "MultinomialNB()"
            ]
          },
          "metadata": {},
          "execution_count": 19
        }
      ]
    },
    {
      "cell_type": "code",
      "source": [
        "y_predicted_test2 = mnb.predict(x_test_arr)"
      ],
      "metadata": {
        "id": "19yHeulBmNuD"
      },
      "execution_count": null,
      "outputs": []
    },
    {
      "cell_type": "code",
      "source": [
        "print(\"Testing Accuracy score:\",accuracy_score(y_test, y_predicted_test2))"
      ],
      "metadata": {
        "colab": {
          "base_uri": "https://localhost:8080/"
        },
        "id": "WCCm36BemNwv",
        "outputId": "e3d5415f-1832-4907-d1a3-d80d500bc6dd"
      },
      "execution_count": null,
      "outputs": [
        {
          "output_type": "stream",
          "name": "stdout",
          "text": [
            "Testing Accuracy score: 0.5900411086062857\n"
          ]
        }
      ]
    },
    {
      "cell_type": "code",
      "source": [
        "print('Confusion matrix\\n', confusion_matrix(y_test, y_predicted_test2))"
      ],
      "metadata": {
        "colab": {
          "base_uri": "https://localhost:8080/"
        },
        "id": "-TRFR2JlmNzL",
        "outputId": "c40e2e3e-f1a2-4a8f-a37d-127c2665ed5f"
      },
      "execution_count": null,
      "outputs": [
        {
          "output_type": "stream",
          "name": "stdout",
          "text": [
            "Confusion matrix\n",
            " [[ 421  194   72 2619    2]\n",
            " [  87  835   52  708    0]\n",
            " [ 100  284  515 1009    1]\n",
            " [ 152  118  108 7126    1]\n",
            " [  25   12   16  623    2]]\n"
          ]
        }
      ]
    },
    {
      "cell_type": "code",
      "source": [],
      "metadata": {
        "id": "EQi9JEcHn9cm"
      },
      "execution_count": null,
      "outputs": []
    },
    {
      "cell_type": "code",
      "source": [],
      "metadata": {
        "id": "wLVAP0ZEn9e-"
      },
      "execution_count": null,
      "outputs": []
    }
  ]
}