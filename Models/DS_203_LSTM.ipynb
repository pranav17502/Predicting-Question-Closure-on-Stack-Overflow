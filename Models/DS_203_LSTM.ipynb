{
  "nbformat": 4,
  "nbformat_minor": 0,
  "metadata": {
    "colab": {
      "provenance": []
    },
    "kernelspec": {
      "name": "python3",
      "display_name": "Python 3"
    },
    "language_info": {
      "name": "python"
    }
  },
  "cells": [
    {
      "cell_type": "code",
      "execution_count": null,
      "metadata": {
        "id": "cKEz55ynoR5-"
      },
      "outputs": [],
      "source": [
        "import pandas as pd\n",
        "import numpy as np\n",
        "import seaborn as sns\n",
        "import matplotlib.pyplot as plt\n",
        "%matplotlib inline"
      ]
    },
    {
      "cell_type": "code",
      "source": [
        "from google.colab import drive\n",
        "drive.mount('/content/drive')"
      ],
      "metadata": {
        "id": "x5q8H0iwo46F",
        "colab": {
          "base_uri": "https://localhost:8080/"
        },
        "outputId": "e3b611f2-dbcf-4830-d01c-e4a6c422c5bc"
      },
      "execution_count": null,
      "outputs": [
        {
          "output_type": "stream",
          "name": "stdout",
          "text": [
            "Mounted at /content/drive\n"
          ]
        }
      ]
    },
    {
      "cell_type": "code",
      "source": [
        "# Saeel's Link\n",
        "df = pd.read_csv(\"/content/drive/MyDrive/DS203/EDA.csv\")"
      ],
      "metadata": {
        "id": "yAGcpjtYo49Q"
      },
      "execution_count": null,
      "outputs": []
    },
    {
      "cell_type": "code",
      "source": [
        "# Pranav's Link\n",
        "# df = pd.read_csv(\"/content/drive/MyDrive/College/Project/EDA.csv\")"
      ],
      "metadata": {
        "id": "1TDvkFfu1a9h"
      },
      "execution_count": null,
      "outputs": []
    },
    {
      "cell_type": "code",
      "source": [
        "df.head()"
      ],
      "metadata": {
        "colab": {
          "base_uri": "https://localhost:8080/",
          "height": 577
        },
        "id": "IP3FU2yV2ZcM",
        "outputId": "b8194061-0f52-4a11-ff5d-e236fb5db974"
      },
      "execution_count": null,
      "outputs": [
        {
          "output_type": "execute_result",
          "data": {
            "text/plain": [
              "   Unnamed: 0  ReputationAtPostCreation  OwnerUndeletedAnswerCountAtPostTime  \\\n",
              "0           0                         1                                    2   \n",
              "1           1                       192                                   24   \n",
              "2           2                         1                                    0   \n",
              "3           3                         4                                    1   \n",
              "4           4                       334                                   14   \n",
              "\n",
              "   OpenStatus  Tags_0  Tags_1  Tags_2  Tags_3  Tags_4  Tags_5  ...  Tags_9  \\\n",
              "0           3       0       0       0       0       0       0  ...       0   \n",
              "1           3       0       0       0       0       0       0  ...       0   \n",
              "2           3       0       0       0       0       0       0  ...       0   \n",
              "3           4       0       0       0       0       0       0  ...       0   \n",
              "4           3       0       0       0       0       0       0  ...       0   \n",
              "\n",
              "   Tags_10  Tags_11  Tags_12  Tags_13  Tags_14  Tags_15  Tags_16      AccAge  \\\n",
              "0        0        0        0        0        0        0        1  21009539.0   \n",
              "1        0        0        0        0        0        1        0  10547952.0   \n",
              "2        0        0        0        0        0        1        1      1414.0   \n",
              "3        0        0        0        0        1        0        0  22373759.0   \n",
              "4        0        0        0        0        1        0        1  39151167.0   \n",
              "\n",
              "                                         Description  \n",
              "0  for mongodb is it better to reference an objec...  \n",
              "1  how to insert schemalocation in a xml document...  \n",
              "2  too many lookup tables  what are the adverse e...  \n",
              "3  what is this php code in vb.net i am looking f...  \n",
              "4  spring-data mongodb querying multiple classes ...  \n",
              "\n",
              "[5 rows x 23 columns]"
            ],
            "text/html": [
              "\n",
              "  <div id=\"df-f44282df-7d2c-43f3-8f3c-22712ab73cd7\">\n",
              "    <div class=\"colab-df-container\">\n",
              "      <div>\n",
              "<style scoped>\n",
              "    .dataframe tbody tr th:only-of-type {\n",
              "        vertical-align: middle;\n",
              "    }\n",
              "\n",
              "    .dataframe tbody tr th {\n",
              "        vertical-align: top;\n",
              "    }\n",
              "\n",
              "    .dataframe thead th {\n",
              "        text-align: right;\n",
              "    }\n",
              "</style>\n",
              "<table border=\"1\" class=\"dataframe\">\n",
              "  <thead>\n",
              "    <tr style=\"text-align: right;\">\n",
              "      <th></th>\n",
              "      <th>Unnamed: 0</th>\n",
              "      <th>ReputationAtPostCreation</th>\n",
              "      <th>OwnerUndeletedAnswerCountAtPostTime</th>\n",
              "      <th>OpenStatus</th>\n",
              "      <th>Tags_0</th>\n",
              "      <th>Tags_1</th>\n",
              "      <th>Tags_2</th>\n",
              "      <th>Tags_3</th>\n",
              "      <th>Tags_4</th>\n",
              "      <th>Tags_5</th>\n",
              "      <th>...</th>\n",
              "      <th>Tags_9</th>\n",
              "      <th>Tags_10</th>\n",
              "      <th>Tags_11</th>\n",
              "      <th>Tags_12</th>\n",
              "      <th>Tags_13</th>\n",
              "      <th>Tags_14</th>\n",
              "      <th>Tags_15</th>\n",
              "      <th>Tags_16</th>\n",
              "      <th>AccAge</th>\n",
              "      <th>Description</th>\n",
              "    </tr>\n",
              "  </thead>\n",
              "  <tbody>\n",
              "    <tr>\n",
              "      <th>0</th>\n",
              "      <td>0</td>\n",
              "      <td>1</td>\n",
              "      <td>2</td>\n",
              "      <td>3</td>\n",
              "      <td>0</td>\n",
              "      <td>0</td>\n",
              "      <td>0</td>\n",
              "      <td>0</td>\n",
              "      <td>0</td>\n",
              "      <td>0</td>\n",
              "      <td>...</td>\n",
              "      <td>0</td>\n",
              "      <td>0</td>\n",
              "      <td>0</td>\n",
              "      <td>0</td>\n",
              "      <td>0</td>\n",
              "      <td>0</td>\n",
              "      <td>0</td>\n",
              "      <td>1</td>\n",
              "      <td>21009539.0</td>\n",
              "      <td>for mongodb is it better to reference an objec...</td>\n",
              "    </tr>\n",
              "    <tr>\n",
              "      <th>1</th>\n",
              "      <td>1</td>\n",
              "      <td>192</td>\n",
              "      <td>24</td>\n",
              "      <td>3</td>\n",
              "      <td>0</td>\n",
              "      <td>0</td>\n",
              "      <td>0</td>\n",
              "      <td>0</td>\n",
              "      <td>0</td>\n",
              "      <td>0</td>\n",
              "      <td>...</td>\n",
              "      <td>0</td>\n",
              "      <td>0</td>\n",
              "      <td>0</td>\n",
              "      <td>0</td>\n",
              "      <td>0</td>\n",
              "      <td>0</td>\n",
              "      <td>1</td>\n",
              "      <td>0</td>\n",
              "      <td>10547952.0</td>\n",
              "      <td>how to insert schemalocation in a xml document...</td>\n",
              "    </tr>\n",
              "    <tr>\n",
              "      <th>2</th>\n",
              "      <td>2</td>\n",
              "      <td>1</td>\n",
              "      <td>0</td>\n",
              "      <td>3</td>\n",
              "      <td>0</td>\n",
              "      <td>0</td>\n",
              "      <td>0</td>\n",
              "      <td>0</td>\n",
              "      <td>0</td>\n",
              "      <td>0</td>\n",
              "      <td>...</td>\n",
              "      <td>0</td>\n",
              "      <td>0</td>\n",
              "      <td>0</td>\n",
              "      <td>0</td>\n",
              "      <td>0</td>\n",
              "      <td>0</td>\n",
              "      <td>1</td>\n",
              "      <td>1</td>\n",
              "      <td>1414.0</td>\n",
              "      <td>too many lookup tables  what are the adverse e...</td>\n",
              "    </tr>\n",
              "    <tr>\n",
              "      <th>3</th>\n",
              "      <td>3</td>\n",
              "      <td>4</td>\n",
              "      <td>1</td>\n",
              "      <td>4</td>\n",
              "      <td>0</td>\n",
              "      <td>0</td>\n",
              "      <td>0</td>\n",
              "      <td>0</td>\n",
              "      <td>0</td>\n",
              "      <td>0</td>\n",
              "      <td>...</td>\n",
              "      <td>0</td>\n",
              "      <td>0</td>\n",
              "      <td>0</td>\n",
              "      <td>0</td>\n",
              "      <td>0</td>\n",
              "      <td>1</td>\n",
              "      <td>0</td>\n",
              "      <td>0</td>\n",
              "      <td>22373759.0</td>\n",
              "      <td>what is this php code in vb.net i am looking f...</td>\n",
              "    </tr>\n",
              "    <tr>\n",
              "      <th>4</th>\n",
              "      <td>4</td>\n",
              "      <td>334</td>\n",
              "      <td>14</td>\n",
              "      <td>3</td>\n",
              "      <td>0</td>\n",
              "      <td>0</td>\n",
              "      <td>0</td>\n",
              "      <td>0</td>\n",
              "      <td>0</td>\n",
              "      <td>0</td>\n",
              "      <td>...</td>\n",
              "      <td>0</td>\n",
              "      <td>0</td>\n",
              "      <td>0</td>\n",
              "      <td>0</td>\n",
              "      <td>0</td>\n",
              "      <td>1</td>\n",
              "      <td>0</td>\n",
              "      <td>1</td>\n",
              "      <td>39151167.0</td>\n",
              "      <td>spring-data mongodb querying multiple classes ...</td>\n",
              "    </tr>\n",
              "  </tbody>\n",
              "</table>\n",
              "<p>5 rows × 23 columns</p>\n",
              "</div>\n",
              "      <button class=\"colab-df-convert\" onclick=\"convertToInteractive('df-f44282df-7d2c-43f3-8f3c-22712ab73cd7')\"\n",
              "              title=\"Convert this dataframe to an interactive table.\"\n",
              "              style=\"display:none;\">\n",
              "        \n",
              "  <svg xmlns=\"http://www.w3.org/2000/svg\" height=\"24px\"viewBox=\"0 0 24 24\"\n",
              "       width=\"24px\">\n",
              "    <path d=\"M0 0h24v24H0V0z\" fill=\"none\"/>\n",
              "    <path d=\"M18.56 5.44l.94 2.06.94-2.06 2.06-.94-2.06-.94-.94-2.06-.94 2.06-2.06.94zm-11 1L8.5 8.5l.94-2.06 2.06-.94-2.06-.94L8.5 2.5l-.94 2.06-2.06.94zm10 10l.94 2.06.94-2.06 2.06-.94-2.06-.94-.94-2.06-.94 2.06-2.06.94z\"/><path d=\"M17.41 7.96l-1.37-1.37c-.4-.4-.92-.59-1.43-.59-.52 0-1.04.2-1.43.59L10.3 9.45l-7.72 7.72c-.78.78-.78 2.05 0 2.83L4 21.41c.39.39.9.59 1.41.59.51 0 1.02-.2 1.41-.59l7.78-7.78 2.81-2.81c.8-.78.8-2.07 0-2.86zM5.41 20L4 18.59l7.72-7.72 1.47 1.35L5.41 20z\"/>\n",
              "  </svg>\n",
              "      </button>\n",
              "      \n",
              "  <style>\n",
              "    .colab-df-container {\n",
              "      display:flex;\n",
              "      flex-wrap:wrap;\n",
              "      gap: 12px;\n",
              "    }\n",
              "\n",
              "    .colab-df-convert {\n",
              "      background-color: #E8F0FE;\n",
              "      border: none;\n",
              "      border-radius: 50%;\n",
              "      cursor: pointer;\n",
              "      display: none;\n",
              "      fill: #1967D2;\n",
              "      height: 32px;\n",
              "      padding: 0 0 0 0;\n",
              "      width: 32px;\n",
              "    }\n",
              "\n",
              "    .colab-df-convert:hover {\n",
              "      background-color: #E2EBFA;\n",
              "      box-shadow: 0px 1px 2px rgba(60, 64, 67, 0.3), 0px 1px 3px 1px rgba(60, 64, 67, 0.15);\n",
              "      fill: #174EA6;\n",
              "    }\n",
              "\n",
              "    [theme=dark] .colab-df-convert {\n",
              "      background-color: #3B4455;\n",
              "      fill: #D2E3FC;\n",
              "    }\n",
              "\n",
              "    [theme=dark] .colab-df-convert:hover {\n",
              "      background-color: #434B5C;\n",
              "      box-shadow: 0px 1px 3px 1px rgba(0, 0, 0, 0.15);\n",
              "      filter: drop-shadow(0px 1px 2px rgba(0, 0, 0, 0.3));\n",
              "      fill: #FFFFFF;\n",
              "    }\n",
              "  </style>\n",
              "\n",
              "      <script>\n",
              "        const buttonEl =\n",
              "          document.querySelector('#df-f44282df-7d2c-43f3-8f3c-22712ab73cd7 button.colab-df-convert');\n",
              "        buttonEl.style.display =\n",
              "          google.colab.kernel.accessAllowed ? 'block' : 'none';\n",
              "\n",
              "        async function convertToInteractive(key) {\n",
              "          const element = document.querySelector('#df-f44282df-7d2c-43f3-8f3c-22712ab73cd7');\n",
              "          const dataTable =\n",
              "            await google.colab.kernel.invokeFunction('convertToInteractive',\n",
              "                                                     [key], {});\n",
              "          if (!dataTable) return;\n",
              "\n",
              "          const docLinkHtml = 'Like what you see? Visit the ' +\n",
              "            '<a target=\"_blank\" href=https://colab.research.google.com/notebooks/data_table.ipynb>data table notebook</a>'\n",
              "            + ' to learn more about interactive tables.';\n",
              "          element.innerHTML = '';\n",
              "          dataTable['output_type'] = 'display_data';\n",
              "          await google.colab.output.renderOutput(dataTable, element);\n",
              "          const docLink = document.createElement('div');\n",
              "          docLink.innerHTML = docLinkHtml;\n",
              "          element.appendChild(docLink);\n",
              "        }\n",
              "      </script>\n",
              "    </div>\n",
              "  </div>\n",
              "  "
            ]
          },
          "metadata": {},
          "execution_count": 8
        }
      ]
    },
    {
      "cell_type": "markdown",
      "source": [
        "Link to the dataset: https://drive.google.com/file/d/1L6yQXX1DntaIWhKMIviJnCoM2FIF8prM/view?usp=share_link"
      ],
      "metadata": {
        "id": "z30QBB5X0h-g"
      }
    },
    {
      "cell_type": "markdown",
      "source": [
        "# **Normalizing and splitting our dataset for LSTM model**"
      ],
      "metadata": {
        "id": "g36DNpZYv0vH"
      }
    },
    {
      "cell_type": "code",
      "source": [
        "from sklearn.model_selection import train_test_split\n",
        "from sklearn.preprocessing import RobustScaler"
      ],
      "metadata": {
        "id": "8m42L21Co5AE"
      },
      "execution_count": null,
      "outputs": []
    },
    {
      "cell_type": "code",
      "source": [
        "train_df, test_df = train_test_split(df, test_size= 0.4, shuffle= True, random_state= 42, stratify= df[\"OpenStatus\"])"
      ],
      "metadata": {
        "id": "2q-GY7gOo5CU"
      },
      "execution_count": null,
      "outputs": []
    },
    {
      "cell_type": "code",
      "source": [
        "train_desc_str = train_df[[\"Description\"]]\n",
        "train_other = train_df.drop([\"OpenStatus\", \"Description\"], axis= 1)\n",
        "train_targ = train_df[\"OpenStatus\"]"
      ],
      "metadata": {
        "id": "bsSON_Xvo5Ec"
      },
      "execution_count": null,
      "outputs": []
    },
    {
      "cell_type": "code",
      "source": [
        "test_desc_str = test_df[[\"Description\"]]\n",
        "test_other = test_df.drop([\"OpenStatus\", \"Description\"], axis= 1)\n",
        "test_targ = test_df[\"OpenStatus\"]"
      ],
      "metadata": {
        "id": "w998ZCWdv8iN"
      },
      "execution_count": null,
      "outputs": []
    },
    {
      "cell_type": "code",
      "source": [
        "scaler = RobustScaler()\n",
        "train_other = scaler.fit_transform(train_other)\n",
        "test_other = scaler.fit_transform(test_other)"
      ],
      "metadata": {
        "id": "sPFt_hjkv8l7"
      },
      "execution_count": null,
      "outputs": []
    },
    {
      "cell_type": "markdown",
      "source": [
        "Reference: https://scikit-learn.org/stable/modules/generated/sklearn.preprocessing.RobustScaler.html"
      ],
      "metadata": {
        "id": "fnWNKXOXMHyL"
      }
    },
    {
      "cell_type": "markdown",
      "source": [
        "# **Model Building**"
      ],
      "metadata": {
        "id": "yThnfgBAwF94"
      }
    },
    {
      "cell_type": "code",
      "source": [
        "from sklearn.metrics import accuracy_score\n",
        "from sklearn.metrics import confusion_matrix "
      ],
      "metadata": {
        "id": "zWRliFodv8o7"
      },
      "execution_count": null,
      "outputs": []
    },
    {
      "cell_type": "markdown",
      "source": [
        "# **LSTM**"
      ],
      "metadata": {
        "id": "EDZVXLTjwNEk"
      }
    },
    {
      "cell_type": "code",
      "source": [
        "from tensorflow.keras.layers import TextVectorization"
      ],
      "metadata": {
        "id": "iEaoI4m0v8r8"
      },
      "execution_count": null,
      "outputs": []
    },
    {
      "cell_type": "code",
      "source": [
        "text_v = TextVectorization()\n",
        "text_v.adapt(train_desc_str)"
      ],
      "metadata": {
        "id": "9-1Iy0a7wOb-"
      },
      "execution_count": null,
      "outputs": []
    },
    {
      "cell_type": "code",
      "source": [
        "import tensorflow as tf\n",
        "from tensorflow.keras import layers\n",
        "from tensorflow.keras import Model"
      ],
      "metadata": {
        "id": "05eTRTrYwOfP"
      },
      "execution_count": null,
      "outputs": []
    },
    {
      "cell_type": "markdown",
      "source": [
        "Reference: \n",
        "\n",
        "*   https://analyticsindiamag.com/how-to-code-your-first-lstm-network-in-keras/\n",
        "*   https://www.analyticsvidhya.com/blog/2022/01/the-complete-lstm-tutorial-with-implementation/\n",
        "\n"
      ],
      "metadata": {
        "id": "eJHmbbcNMADU"
      }
    },
    {
      "cell_type": "code",
      "source": [
        "max_num_of_tokens = 20000\n",
        "max_length = 200\n",
        "embedded_dim = 100\n",
        "NUM_CLASSES = train_targ.nunique()\n",
        "desc_vector = TextVectorization(max_tokens= max_num_of_tokens, output_sequence_length= max_length, name= \"desc_vector\")\n",
        "desc_vector.adapt(train_desc_str)\n",
        "\n",
        "text_input = layers.Input(shape= (1, ), dtype= tf.string, name= \"text_input\")\n",
        "x = desc_vector(text_input)\n",
        "x = layers.Embedding(input_dim= max_num_of_tokens, output_dim= embedded_dim, input_length= max_length, name= \"embedding\")(x)\n",
        "x = layers.LSTM(units= 128, name= \"hidden_lstm\")(x)\n",
        "\n",
        "input_other = layers.Input(shape= train_other.shape[1:], name= \"input_other\")\n",
        "y = layers.Concatenate()([x, input_other])\n",
        "y = layers.Dense(units= 256, activation= \"selu\", kernel_initializer= \"lecun_normal\", name= \"hidder_dense_1\")(y)\n",
        "y = layers.BatchNormalization()(y)\n",
        "y = layers.Dense(units= 64, activation= \"softmax\", name= \"softmax_output\")(y)\n",
        "model = Model(inputs= [text_input, input_other], outputs= y, name= \"NLP\")"
      ],
      "metadata": {
        "id": "RzfG1kdXwOht"
      },
      "execution_count": null,
      "outputs": []
    },
    {
      "cell_type": "code",
      "source": [
        "model.compile(optimizer= \"adam\", loss= \"sparse_categorical_crossentropy\", metrics= [\"accuracy\"])\n",
        "model.summary()"
      ],
      "metadata": {
        "id": "y2YBgSrPwOkf",
        "colab": {
          "base_uri": "https://localhost:8080/"
        },
        "outputId": "f03f82ff-4b8c-4091-a6a3-c47a8525943a"
      },
      "execution_count": null,
      "outputs": [
        {
          "output_type": "stream",
          "name": "stdout",
          "text": [
            "Model: \"NLP\"\n",
            "__________________________________________________________________________________________________\n",
            " Layer (type)                   Output Shape         Param #     Connected to                     \n",
            "==================================================================================================\n",
            " text_input (InputLayer)        [(None, 1)]          0           []                               \n",
            "                                                                                                  \n",
            " desc_vector (TextVectorization  (None, 200)         0           ['text_input[0][0]']             \n",
            " )                                                                                                \n",
            "                                                                                                  \n",
            " embedding (Embedding)          (None, 200, 100)     2000000     ['desc_vector[0][0]']            \n",
            "                                                                                                  \n",
            " hidden_lstm (LSTM)             (None, 128)          117248      ['embedding[0][0]']              \n",
            "                                                                                                  \n",
            " input_other (InputLayer)       [(None, 21)]         0           []                               \n",
            "                                                                                                  \n",
            " concatenate (Concatenate)      (None, 149)          0           ['hidden_lstm[0][0]',            \n",
            "                                                                  'input_other[0][0]']            \n",
            "                                                                                                  \n",
            " hidder_dense_1 (Dense)         (None, 256)          38400       ['concatenate[0][0]']            \n",
            "                                                                                                  \n",
            " batch_normalization (BatchNorm  (None, 256)         1024        ['hidder_dense_1[0][0]']         \n",
            " alization)                                                                                       \n",
            "                                                                                                  \n",
            " softmax_output (Dense)         (None, 64)           16448       ['batch_normalization[0][0]']    \n",
            "                                                                                                  \n",
            "==================================================================================================\n",
            "Total params: 2,173,120\n",
            "Trainable params: 2,172,608\n",
            "Non-trainable params: 512\n",
            "__________________________________________________________________________________________________\n"
          ]
        }
      ]
    },
    {
      "cell_type": "code",
      "source": [
        "from tensorflow.keras.utils import plot_model\n",
        "plot_model(model= model, to_file= \"NLP_Model.jpeg\", show_shapes= True)"
      ],
      "metadata": {
        "id": "Wpu9jcvNwOnB",
        "colab": {
          "base_uri": "https://localhost:8080/",
          "height": 865
        },
        "outputId": "8c968cda-530c-4555-ca00-e0132d2d8467"
      },
      "execution_count": null,
      "outputs": [
        {
          "output_type": "execute_result",
          "data": {
            "image/jpeg": "[encoded data removed]",
            "text/plain": [
              "<IPython.core.display.Image object>"
            ]
          },
          "metadata": {},
          "execution_count": 18
        }
      ]
    },
    {
      "cell_type": "code",
      "source": [
        "from tensorflow.keras.callbacks import ReduceLROnPlateau, EarlyStopping\n",
        "\n",
        "red_learning_rate = ReduceLROnPlateau(monitor= \"val_loss\", factor= 0.3, patience= 7, verbose= True)\n",
        "early_stop = EarlyStopping(monitor= \"val_loss\", patience= 35, restore_best_weights= True, verbose= True)\n",
        "callbacks = [red_learning_rate, early_stop]"
      ],
      "metadata": {
        "id": "vvcEsYVMwOpW"
      },
      "execution_count": null,
      "outputs": []
    },
    {
      "cell_type": "markdown",
      "source": [
        "Reference: https://keras.io/api/callbacks/reduce_lr_on_plateau/"
      ],
      "metadata": {
        "id": "nZQOc-EXwtDP"
      }
    },
    {
      "cell_type": "code",
      "source": [
        "history = model.fit(x = [train_desc_str, train_other], y= train_targ, batch_size= 256, epochs= 100, verbose= 1, \n",
        "                    callbacks= callbacks, validation_data= ([test_desc_str, test_other], test_targ), shuffle= True)"
      ],
      "metadata": {
        "id": "HzsgIOr9wojc",
        "colab": {
          "base_uri": "https://localhost:8080/"
        },
        "outputId": "507c8487-fb5d-466c-cb99-0a041b488141"
      },
      "execution_count": null,
      "outputs": [
        {
          "output_type": "stream",
          "name": "stdout",
          "text": [
            "Epoch 1/100\n",
            "329/329 [==============================] - 311s 938ms/step - loss: 1.9882 - accuracy: 0.4645 - val_loss: 2.0354 - val_accuracy: 0.2420 - lr: 0.0010\n",
            "Epoch 2/100\n",
            "329/329 [==============================] - 307s 933ms/step - loss: 1.2399 - accuracy: 0.5257 - val_loss: 1.1424 - val_accuracy: 0.5684 - lr: 0.0010\n",
            "Epoch 3/100\n",
            "329/329 [==============================] - 307s 934ms/step - loss: 1.0738 - accuracy: 0.5797 - val_loss: 1.0542 - val_accuracy: 0.5910 - lr: 0.0010\n",
            "Epoch 4/100\n",
            "329/329 [==============================] - 306s 932ms/step - loss: 1.0019 - accuracy: 0.6083 - val_loss: 1.2727 - val_accuracy: 0.4930 - lr: 0.0010\n",
            "Epoch 5/100\n",
            "329/329 [==============================] - 306s 931ms/step - loss: 0.9475 - accuracy: 0.6320 - val_loss: 1.0626 - val_accuracy: 0.5844 - lr: 0.0010\n",
            "Epoch 6/100\n",
            "329/329 [==============================] - 307s 934ms/step - loss: 0.9050 - accuracy: 0.6493 - val_loss: 1.0983 - val_accuracy: 0.5741 - lr: 0.0010\n",
            "Epoch 7/100\n",
            "329/329 [==============================] - 307s 934ms/step - loss: 0.8678 - accuracy: 0.6668 - val_loss: 1.1176 - val_accuracy: 0.5814 - lr: 0.0010\n",
            "Epoch 8/100\n",
            "329/329 [==============================] - 308s 935ms/step - loss: 0.8303 - accuracy: 0.6860 - val_loss: 1.3151 - val_accuracy: 0.5901 - lr: 0.0010\n",
            "Epoch 9/100\n",
            "329/329 [==============================] - 307s 935ms/step - loss: 0.8030 - accuracy: 0.6988 - val_loss: 1.3516 - val_accuracy: 0.4509 - lr: 0.0010\n",
            "Epoch 10/100\n",
            "329/329 [==============================] - ETA: 0s - loss: 0.7797 - accuracy: 0.7107\n",
            "Epoch 10: ReduceLROnPlateau reducing learning rate to 0.0003000000142492354.\n",
            "329/329 [==============================] - 308s 938ms/step - loss: 0.7797 - accuracy: 0.7107 - val_loss: 1.2018 - val_accuracy: 0.5905 - lr: 0.0010\n",
            "Epoch 11/100\n",
            "329/329 [==============================] - 308s 936ms/step - loss: 0.6805 - accuracy: 0.7629 - val_loss: 1.2418 - val_accuracy: 0.5822 - lr: 3.0000e-04\n",
            "Epoch 12/100\n",
            "329/329 [==============================] - 308s 936ms/step - loss: 0.6437 - accuracy: 0.7823 - val_loss: 1.2874 - val_accuracy: 0.5913 - lr: 3.0000e-04\n",
            "Epoch 13/100\n",
            "329/329 [==============================] - 307s 935ms/step - loss: 0.6165 - accuracy: 0.7953 - val_loss: 1.2897 - val_accuracy: 0.5918 - lr: 3.0000e-04\n",
            "Epoch 14/100\n",
            "329/329 [==============================] - 307s 935ms/step - loss: 0.5901 - accuracy: 0.8070 - val_loss: 1.2903 - val_accuracy: 0.5853 - lr: 3.0000e-04\n",
            "Epoch 15/100\n",
            "329/329 [==============================] - 310s 943ms/step - loss: 0.5652 - accuracy: 0.8176 - val_loss: 1.4557 - val_accuracy: 0.5856 - lr: 3.0000e-04\n",
            "Epoch 16/100\n",
            "329/329 [==============================] - 308s 936ms/step - loss: 0.5381 - accuracy: 0.8279 - val_loss: 1.3947 - val_accuracy: 0.5800 - lr: 3.0000e-04\n",
            "Epoch 17/100\n",
            "329/329 [==============================] - ETA: 0s - loss: 0.5220 - accuracy: 0.8351\n",
            "Epoch 17: ReduceLROnPlateau reducing learning rate to 9.000000427477062e-05.\n",
            "329/329 [==============================] - 308s 937ms/step - loss: 0.5220 - accuracy: 0.8351 - val_loss: 1.4294 - val_accuracy: 0.5818 - lr: 3.0000e-04\n",
            "Epoch 18/100\n",
            "329/329 [==============================] - 308s 937ms/step - loss: 0.4762 - accuracy: 0.8527 - val_loss: 1.4532 - val_accuracy: 0.5815 - lr: 9.0000e-05\n",
            "Epoch 19/100\n",
            "329/329 [==============================] - 308s 936ms/step - loss: 0.4591 - accuracy: 0.8581 - val_loss: 1.4473 - val_accuracy: 0.5751 - lr: 9.0000e-05\n",
            "Epoch 20/100\n",
            "329/329 [==============================] - 308s 938ms/step - loss: 0.4463 - accuracy: 0.8627 - val_loss: 1.5256 - val_accuracy: 0.5724 - lr: 9.0000e-05\n",
            "Epoch 21/100\n",
            "329/329 [==============================] - 308s 938ms/step - loss: 0.4356 - accuracy: 0.8680 - val_loss: 1.4969 - val_accuracy: 0.5585 - lr: 9.0000e-05\n",
            "Epoch 22/100\n",
            "329/329 [==============================] - 309s 939ms/step - loss: 0.4275 - accuracy: 0.8708 - val_loss: 1.5348 - val_accuracy: 0.5637 - lr: 9.0000e-05\n",
            "Epoch 23/100\n",
            "329/329 [==============================] - 308s 937ms/step - loss: 0.4173 - accuracy: 0.8756 - val_loss: 1.5687 - val_accuracy: 0.5626 - lr: 9.0000e-05\n",
            "Epoch 24/100\n",
            "329/329 [==============================] - ETA: 0s - loss: 0.4085 - accuracy: 0.8788\n",
            "Epoch 24: ReduceLROnPlateau reducing learning rate to 2.700000040931627e-05.\n",
            "329/329 [==============================] - 309s 940ms/step - loss: 0.4085 - accuracy: 0.8788 - val_loss: 1.5928 - val_accuracy: 0.5748 - lr: 9.0000e-05\n",
            "Epoch 25/100\n",
            "329/329 [==============================] - 308s 936ms/step - loss: 0.3923 - accuracy: 0.8852 - val_loss: 1.6091 - val_accuracy: 0.5602 - lr: 2.7000e-05\n",
            "Epoch 26/100\n",
            "329/329 [==============================] - 308s 938ms/step - loss: 0.3847 - accuracy: 0.8890 - val_loss: 1.6089 - val_accuracy: 0.5612 - lr: 2.7000e-05\n",
            "Epoch 27/100\n",
            "329/329 [==============================] - 308s 936ms/step - loss: 0.3802 - accuracy: 0.8908 - val_loss: 1.6434 - val_accuracy: 0.5583 - lr: 2.7000e-05\n",
            "Epoch 28/100\n",
            "329/329 [==============================] - 308s 938ms/step - loss: 0.3746 - accuracy: 0.8936 - val_loss: 1.6408 - val_accuracy: 0.5639 - lr: 2.7000e-05\n",
            "Epoch 29/100\n",
            "329/329 [==============================] - 308s 938ms/step - loss: 0.3706 - accuracy: 0.8950 - val_loss: 1.6448 - val_accuracy: 0.5584 - lr: 2.7000e-05\n",
            "Epoch 30/100\n",
            "329/329 [==============================] - 308s 936ms/step - loss: 0.3669 - accuracy: 0.8969 - val_loss: 1.6668 - val_accuracy: 0.5606 - lr: 2.7000e-05\n",
            "Epoch 31/100\n",
            "329/329 [==============================] - ETA: 0s - loss: 0.3629 - accuracy: 0.8982\n",
            "Epoch 31: ReduceLROnPlateau reducing learning rate to 8.100000013655517e-06.\n",
            "329/329 [==============================] - 309s 940ms/step - loss: 0.3629 - accuracy: 0.8982 - val_loss: 1.6785 - val_accuracy: 0.5582 - lr: 2.7000e-05\n",
            "Epoch 32/100\n",
            "329/329 [==============================] - 308s 936ms/step - loss: 0.3570 - accuracy: 0.9005 - val_loss: 1.6607 - val_accuracy: 0.5580 - lr: 8.1000e-06\n",
            "Epoch 33/100\n",
            "329/329 [==============================] - 310s 943ms/step - loss: 0.3542 - accuracy: 0.9016 - val_loss: 1.6747 - val_accuracy: 0.5579 - lr: 8.1000e-06\n",
            "Epoch 34/100\n",
            "329/329 [==============================] - 308s 937ms/step - loss: 0.3522 - accuracy: 0.9027 - val_loss: 1.6763 - val_accuracy: 0.5578 - lr: 8.1000e-06\n",
            "Epoch 35/100\n",
            "329/329 [==============================] - 311s 945ms/step - loss: 0.3516 - accuracy: 0.9029 - val_loss: 1.6831 - val_accuracy: 0.5584 - lr: 8.1000e-06\n",
            "Epoch 36/100\n",
            "329/329 [==============================] - 310s 942ms/step - loss: 0.3489 - accuracy: 0.9037 - val_loss: 1.6879 - val_accuracy: 0.5585 - lr: 8.1000e-06\n",
            "Epoch 37/100\n",
            "329/329 [==============================] - 309s 939ms/step - loss: 0.3477 - accuracy: 0.9038 - val_loss: 1.6989 - val_accuracy: 0.5570 - lr: 8.1000e-06\n",
            "Epoch 38/100\n",
            "329/329 [==============================] - ETA: 0s - loss: 0.3468 - accuracy: 0.9049\n",
            "Epoch 38: ReduceLROnPlateau reducing learning rate to 2.429999949526973e-06.\n",
            "Restoring model weights from the end of the best epoch: 3.\n",
            "329/329 [==============================] - 310s 942ms/step - loss: 0.3468 - accuracy: 0.9049 - val_loss: 1.6958 - val_accuracy: 0.5597 - lr: 8.1000e-06\n",
            "Epoch 38: early stopping\n"
          ]
        }
      ]
    },
    {
      "cell_type": "code",
      "source": [
        "model.evaluate([test_desc_str, test_other], test_targ)"
      ],
      "metadata": {
        "id": "SRGnDgPAwonE",
        "colab": {
          "base_uri": "https://localhost:8080/"
        },
        "outputId": "5e0a5d56-b3b5-4a9d-d557-ac62aaff87f9"
      },
      "execution_count": null,
      "outputs": [
        {
          "output_type": "stream",
          "name": "stdout",
          "text": [
            "1754/1754 [==============================] - 114s 65ms/step - loss: 1.0542 - accuracy: 0.5910\n"
          ]
        },
        {
          "output_type": "execute_result",
          "data": {
            "text/plain": [
              "[1.0541527271270752, 0.591010332107544]"
            ]
          },
          "metadata": {},
          "execution_count": 21
        }
      ]
    },
    {
      "cell_type": "code",
      "source": [],
      "metadata": {
        "id": "Dt8lsE7kwoqf"
      },
      "execution_count": null,
      "outputs": []
    },
    {
      "cell_type": "code",
      "source": [],
      "metadata": {
        "id": "GoS7UJF2wotP"
      },
      "execution_count": null,
      "outputs": []
    },
    {
      "cell_type": "code",
      "source": [],
      "metadata": {
        "id": "DV9rNb3hwovb"
      },
      "execution_count": null,
      "outputs": []
    }
  ]
}